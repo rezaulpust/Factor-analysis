{
 "cells": [
  {
   "cell_type": "code",
   "execution_count": 1,
   "id": "b64cad71",
   "metadata": {},
   "outputs": [
    {
     "data": {
      "text/plain": [
       "(1000, 30)"
      ]
     },
     "execution_count": 1,
     "metadata": {},
     "output_type": "execute_result"
    }
   ],
   "source": [
    "import numpy as np\n",
    "np.random.seed(123)\n",
    "data=np.random.rand(1000,30)+np.random.normal(size = (1000,30))\n",
    "data.shape\n"
   ]
  },
  {
   "cell_type": "code",
   "execution_count": 8,
   "id": "e375b160",
   "metadata": {},
   "outputs": [],
   "source": [
    "from sklearn.preprocessing import StandardScaler\n",
    "scaler=StandardScaler()\n",
    "data_standardized=scaler.fit_transform(data)\n",
    "correlation_matrix=np.corrcoef(data_standardized,rowvar=False)\n"
   ]
  },
  {
   "cell_type": "code",
   "execution_count": 10,
   "id": "f41d16be",
   "metadata": {},
   "outputs": [
    {
     "data": {
      "text/html": [
       "<style>#sk-container-id-1 {color: black;}#sk-container-id-1 pre{padding: 0;}#sk-container-id-1 div.sk-toggleable {background-color: white;}#sk-container-id-1 label.sk-toggleable__label {cursor: pointer;display: block;width: 100%;margin-bottom: 0;padding: 0.3em;box-sizing: border-box;text-align: center;}#sk-container-id-1 label.sk-toggleable__label-arrow:before {content: \"▸\";float: left;margin-right: 0.25em;color: #696969;}#sk-container-id-1 label.sk-toggleable__label-arrow:hover:before {color: black;}#sk-container-id-1 div.sk-estimator:hover label.sk-toggleable__label-arrow:before {color: black;}#sk-container-id-1 div.sk-toggleable__content {max-height: 0;max-width: 0;overflow: hidden;text-align: left;background-color: #f0f8ff;}#sk-container-id-1 div.sk-toggleable__content pre {margin: 0.2em;color: black;border-radius: 0.25em;background-color: #f0f8ff;}#sk-container-id-1 input.sk-toggleable__control:checked~div.sk-toggleable__content {max-height: 200px;max-width: 100%;overflow: auto;}#sk-container-id-1 input.sk-toggleable__control:checked~label.sk-toggleable__label-arrow:before {content: \"▾\";}#sk-container-id-1 div.sk-estimator input.sk-toggleable__control:checked~label.sk-toggleable__label {background-color: #d4ebff;}#sk-container-id-1 div.sk-label input.sk-toggleable__control:checked~label.sk-toggleable__label {background-color: #d4ebff;}#sk-container-id-1 input.sk-hidden--visually {border: 0;clip: rect(1px 1px 1px 1px);clip: rect(1px, 1px, 1px, 1px);height: 1px;margin: -1px;overflow: hidden;padding: 0;position: absolute;width: 1px;}#sk-container-id-1 div.sk-estimator {font-family: monospace;background-color: #f0f8ff;border: 1px dotted black;border-radius: 0.25em;box-sizing: border-box;margin-bottom: 0.5em;}#sk-container-id-1 div.sk-estimator:hover {background-color: #d4ebff;}#sk-container-id-1 div.sk-parallel-item::after {content: \"\";width: 100%;border-bottom: 1px solid gray;flex-grow: 1;}#sk-container-id-1 div.sk-label:hover label.sk-toggleable__label {background-color: #d4ebff;}#sk-container-id-1 div.sk-serial::before {content: \"\";position: absolute;border-left: 1px solid gray;box-sizing: border-box;top: 0;bottom: 0;left: 50%;z-index: 0;}#sk-container-id-1 div.sk-serial {display: flex;flex-direction: column;align-items: center;background-color: white;padding-right: 0.2em;padding-left: 0.2em;position: relative;}#sk-container-id-1 div.sk-item {position: relative;z-index: 1;}#sk-container-id-1 div.sk-parallel {display: flex;align-items: stretch;justify-content: center;background-color: white;position: relative;}#sk-container-id-1 div.sk-item::before, #sk-container-id-1 div.sk-parallel-item::before {content: \"\";position: absolute;border-left: 1px solid gray;box-sizing: border-box;top: 0;bottom: 0;left: 50%;z-index: -1;}#sk-container-id-1 div.sk-parallel-item {display: flex;flex-direction: column;z-index: 1;position: relative;background-color: white;}#sk-container-id-1 div.sk-parallel-item:first-child::after {align-self: flex-end;width: 50%;}#sk-container-id-1 div.sk-parallel-item:last-child::after {align-self: flex-start;width: 50%;}#sk-container-id-1 div.sk-parallel-item:only-child::after {width: 0;}#sk-container-id-1 div.sk-dashed-wrapped {border: 1px dashed gray;margin: 0 0.4em 0.5em 0.4em;box-sizing: border-box;padding-bottom: 0.4em;background-color: white;}#sk-container-id-1 div.sk-label label {font-family: monospace;font-weight: bold;display: inline-block;line-height: 1.2em;}#sk-container-id-1 div.sk-label-container {text-align: center;}#sk-container-id-1 div.sk-container {/* jupyter's `normalize.less` sets `[hidden] { display: none; }` but bootstrap.min.css set `[hidden] { display: none !important; }` so we also need the `!important` here to be able to override the default hidden behavior on the sphinx rendered scikit-learn.org. See: https://github.com/scikit-learn/scikit-learn/issues/21755 */display: inline-block !important;position: relative;}#sk-container-id-1 div.sk-text-repr-fallback {display: none;}</style><div id=\"sk-container-id-1\" class=\"sk-top-container\"><div class=\"sk-text-repr-fallback\"><pre>FactorAnalysis(n_components=10)</pre><b>In a Jupyter environment, please rerun this cell to show the HTML representation or trust the notebook. <br />On GitHub, the HTML representation is unable to render, please try loading this page with nbviewer.org.</b></div><div class=\"sk-container\" hidden><div class=\"sk-item\"><div class=\"sk-estimator sk-toggleable\"><input class=\"sk-toggleable__control sk-hidden--visually\" id=\"sk-estimator-id-1\" type=\"checkbox\" checked><label for=\"sk-estimator-id-1\" class=\"sk-toggleable__label sk-toggleable__label-arrow\">FactorAnalysis</label><div class=\"sk-toggleable__content\"><pre>FactorAnalysis(n_components=10)</pre></div></div></div></div></div>"
      ],
      "text/plain": [
       "FactorAnalysis(n_components=10)"
      ]
     },
     "execution_count": 10,
     "metadata": {},
     "output_type": "execute_result"
    }
   ],
   "source": [
    "from sklearn.decomposition import FactorAnalysis\n",
    "fa=FactorAnalysis(n_components=10) #set the number to 10\n",
    "fa.fit(data_standardized)"
   ]
  },
  {
   "cell_type": "code",
   "execution_count": 11,
   "id": "47932e7d",
   "metadata": {},
   "outputs": [
    {
     "name": "stdout",
     "output_type": "stream",
     "text": [
      "[[-0.09959363 -0.09196769 -0.12444848 -0.0566252  -0.03228886 -0.01792638\n",
      "   0.00626227  0.15642582 -0.04311244 -0.07327871]\n",
      " [-0.12527802  0.07485586  0.01692967 -0.00257169 -0.03108886 -0.13523637\n",
      "  -0.11297596 -0.1008575   0.00175561 -0.13329713]\n",
      " [ 0.03390834  0.2913505   0.02141121 -0.03935442  0.04773779  0.16727304\n",
      "  -0.12064742 -0.13686938  0.05079383 -0.02899702]\n",
      " [ 0.18305738 -0.14411134  0.014357   -0.06004416  0.11688614 -0.00976463\n",
      "  -0.0116895   0.05787964 -0.12109715 -0.06975933]\n",
      " [-0.02354662  0.03037644 -0.20269092  0.07877558  0.06228802  0.08195159\n",
      "   0.01108527  0.14577477  0.04853537  0.08865504]\n",
      " [ 0.19783204 -0.06898646 -0.06177363  0.01804792 -0.03335406  0.00864997\n",
      "   0.07236134 -0.04368128  0.08670343 -0.08380512]\n",
      " [ 0.12178026  0.13761743 -0.04623659 -0.01674953 -0.06040477  0.01390539\n",
      "  -0.10310719  0.15860041 -0.02442929 -0.01521357]\n",
      " [-0.30285318 -0.00036328  0.02886916  0.18724107 -0.04998316  0.07369082\n",
      "   0.03283987 -0.04812396 -0.01526753  0.02042382]\n",
      " [ 0.08289057 -0.0032592   0.29339265 -0.10156286 -0.01297772 -0.03287467\n",
      "   0.00185442 -0.01728207  0.02845357 -0.02495257]\n",
      " [ 0.01135446 -0.07937789 -0.03422113 -0.01055922  0.22089492 -0.02833238\n",
      "  -0.02130032  0.03673011  0.08626985 -0.06706489]\n",
      " [ 0.0013062   0.12505572 -0.00494506  0.03444493 -0.1784563  -0.04734266\n",
      "  -0.06123611  0.11853787  0.0868185  -0.04074209]\n",
      " [-0.07192602  0.14610783  0.09832661 -0.02226839  0.16713402 -0.1523753\n",
      "  -0.02698336  0.07511654  0.04636813  0.02331415]\n",
      " [-0.12588881  0.07581992 -0.16582729 -0.26429126 -0.10334701  0.00244647\n",
      "  -0.03220912  0.05569274 -0.02627868  0.05684671]\n",
      " [ 0.180144    0.06955216 -0.15203484  0.01654524  0.04878592  0.05414235\n",
      "   0.02451946 -0.00848677  0.15840665  0.0042907 ]\n",
      " [ 0.04385836 -0.05999777  0.08523036 -0.03562681 -0.15931581  0.10420096\n",
      "   0.02303894  0.06859272  0.0737527  -0.02574462]\n",
      " [-0.04989422  0.13581337  0.10658414 -0.15489644  0.03416797  0.1765995\n",
      "   0.06332036  0.01817205 -0.00531775 -0.03002776]\n",
      " [ 0.09774156 -0.0396178  -0.18519248  0.0447559  -0.0805813  -0.10896594\n",
      "  -0.06600109 -0.11801972  0.04956355  0.101475  ]\n",
      " [-0.01200263 -0.00413732  0.02841622  0.20087807  0.02965896 -0.12907263\n",
      "  -0.05957804 -0.00605947  0.01297617  0.02490114]\n",
      " [-0.04940808 -0.21274536 -0.06761234  0.14738076  0.02407162  0.19107128\n",
      "  -0.1419377   0.00882552  0.02758071 -0.04564407]\n",
      " [ 0.0370075   0.00362935  0.08426622  0.16063914  0.06283575  0.07992072\n",
      "  -0.05722395  0.0214437  -0.0922899  -0.01927148]\n",
      " [-0.1922169  -0.12619155 -0.16717303 -0.20315274  0.04717972 -0.01181726\n",
      "  -0.05388027 -0.13592632 -0.00891877 -0.02801017]\n",
      " [-0.10040299  0.08223319  0.0825889   0.03714958 -0.02237543  0.03930979\n",
      "  -0.19510779  0.08612555 -0.02308243  0.02327067]\n",
      " [-0.19132355 -0.05583414  0.05799653  0.00563903  0.07561904  0.06754614\n",
      "   0.05545194  0.01596513  0.17898552 -0.04029355]\n",
      " [ 0.02437279 -0.09923687  0.04582252 -0.00436803 -0.01937229  0.08229827\n",
      "  -0.08450537 -0.01021187 -0.05293286  0.08868144]\n",
      " [ 0.13275754 -0.04549242  0.02214696 -0.04185529  0.00243275 -0.02763131\n",
      "  -0.22308592 -0.05182295  0.03699197  0.07057938]\n",
      " [ 0.00336117  0.02055444 -0.06374867  0.07180956 -0.14854604 -0.04585207\n",
      "   0.05099316  0.00706325  0.01149416 -0.11902367]\n",
      " [ 0.04401218  0.1945546  -0.07721426  0.11779515 -0.00752357  0.04406099\n",
      "   0.15944264 -0.07856115 -0.08569323  0.05579224]\n",
      " [-0.02803131 -0.03947234  0.06116238  0.06727954 -0.18270869 -0.06676433\n",
      "  -0.02655523 -0.02559664  0.02374448 -0.04255158]\n",
      " [ 0.01083     0.1784463  -0.19795059  0.07829371  0.08718198 -0.01723613\n",
      "  -0.05086718 -0.00577193 -0.07838487 -0.14903783]\n",
      " [ 0.10885618 -0.05576207 -0.02090761 -0.04046494 -0.10440285  0.14370795\n",
      "  -0.02038648 -0.07048831 -0.04907595 -0.05898803]]\n"
     ]
    }
   ],
   "source": [
    "#print the factor loadings\n",
    "print(fa.components_.T)"
   ]
  },
  {
   "cell_type": "code",
   "execution_count": 12,
   "id": "9e6e8fd3",
   "metadata": {},
   "outputs": [
    {
     "name": "stdout",
     "output_type": "stream",
     "text": [
      "[0.07017142 0.08155361 0.15501114 0.09486481 0.0909508  0.07091067\n",
      " 0.07664288 0.13958608 0.10625924 0.07105264 0.07793798 0.09690102\n",
      " 0.13769303 0.09177347 0.06163414 0.09391226 0.09682777 0.06323477\n",
      " 0.13415021 0.05724734 0.14669824 0.07364898 0.09038745 0.03762079\n",
      " 0.08150868 0.05077157 0.10367419 0.05218594 0.11614974 0.05985779]\n"
     ]
    }
   ],
   "source": [
    "#compute the communality\n",
    "communalities=np.sum(fa.components_**2,axis=0)\n",
    "print(communalities)\n"
   ]
  },
  {
   "cell_type": "code",
   "execution_count": 13,
   "id": "a9b81b7e",
   "metadata": {},
   "outputs": [],
   "source": [
    "#load the iris data set\n",
    "from sklearn.datasets import load_iris\n",
    "iris=load_iris()"
   ]
  },
  {
   "cell_type": "code",
   "execution_count": 14,
   "id": "d4b5741c",
   "metadata": {},
   "outputs": [],
   "source": [
    "#standardized the data\n",
    "from sklearn.preprocessing import StandardScaler\n",
    "scaler=StandardScaler()\n",
    "iris_standardized=scaler.fit_transform(iris.data)"
   ]
  },
  {
   "cell_type": "code",
   "execution_count": 15,
   "id": "80ca6934",
   "metadata": {},
   "outputs": [
    {
     "data": {
      "text/html": [
       "<style>#sk-container-id-2 {color: black;}#sk-container-id-2 pre{padding: 0;}#sk-container-id-2 div.sk-toggleable {background-color: white;}#sk-container-id-2 label.sk-toggleable__label {cursor: pointer;display: block;width: 100%;margin-bottom: 0;padding: 0.3em;box-sizing: border-box;text-align: center;}#sk-container-id-2 label.sk-toggleable__label-arrow:before {content: \"▸\";float: left;margin-right: 0.25em;color: #696969;}#sk-container-id-2 label.sk-toggleable__label-arrow:hover:before {color: black;}#sk-container-id-2 div.sk-estimator:hover label.sk-toggleable__label-arrow:before {color: black;}#sk-container-id-2 div.sk-toggleable__content {max-height: 0;max-width: 0;overflow: hidden;text-align: left;background-color: #f0f8ff;}#sk-container-id-2 div.sk-toggleable__content pre {margin: 0.2em;color: black;border-radius: 0.25em;background-color: #f0f8ff;}#sk-container-id-2 input.sk-toggleable__control:checked~div.sk-toggleable__content {max-height: 200px;max-width: 100%;overflow: auto;}#sk-container-id-2 input.sk-toggleable__control:checked~label.sk-toggleable__label-arrow:before {content: \"▾\";}#sk-container-id-2 div.sk-estimator input.sk-toggleable__control:checked~label.sk-toggleable__label {background-color: #d4ebff;}#sk-container-id-2 div.sk-label input.sk-toggleable__control:checked~label.sk-toggleable__label {background-color: #d4ebff;}#sk-container-id-2 input.sk-hidden--visually {border: 0;clip: rect(1px 1px 1px 1px);clip: rect(1px, 1px, 1px, 1px);height: 1px;margin: -1px;overflow: hidden;padding: 0;position: absolute;width: 1px;}#sk-container-id-2 div.sk-estimator {font-family: monospace;background-color: #f0f8ff;border: 1px dotted black;border-radius: 0.25em;box-sizing: border-box;margin-bottom: 0.5em;}#sk-container-id-2 div.sk-estimator:hover {background-color: #d4ebff;}#sk-container-id-2 div.sk-parallel-item::after {content: \"\";width: 100%;border-bottom: 1px solid gray;flex-grow: 1;}#sk-container-id-2 div.sk-label:hover label.sk-toggleable__label {background-color: #d4ebff;}#sk-container-id-2 div.sk-serial::before {content: \"\";position: absolute;border-left: 1px solid gray;box-sizing: border-box;top: 0;bottom: 0;left: 50%;z-index: 0;}#sk-container-id-2 div.sk-serial {display: flex;flex-direction: column;align-items: center;background-color: white;padding-right: 0.2em;padding-left: 0.2em;position: relative;}#sk-container-id-2 div.sk-item {position: relative;z-index: 1;}#sk-container-id-2 div.sk-parallel {display: flex;align-items: stretch;justify-content: center;background-color: white;position: relative;}#sk-container-id-2 div.sk-item::before, #sk-container-id-2 div.sk-parallel-item::before {content: \"\";position: absolute;border-left: 1px solid gray;box-sizing: border-box;top: 0;bottom: 0;left: 50%;z-index: -1;}#sk-container-id-2 div.sk-parallel-item {display: flex;flex-direction: column;z-index: 1;position: relative;background-color: white;}#sk-container-id-2 div.sk-parallel-item:first-child::after {align-self: flex-end;width: 50%;}#sk-container-id-2 div.sk-parallel-item:last-child::after {align-self: flex-start;width: 50%;}#sk-container-id-2 div.sk-parallel-item:only-child::after {width: 0;}#sk-container-id-2 div.sk-dashed-wrapped {border: 1px dashed gray;margin: 0 0.4em 0.5em 0.4em;box-sizing: border-box;padding-bottom: 0.4em;background-color: white;}#sk-container-id-2 div.sk-label label {font-family: monospace;font-weight: bold;display: inline-block;line-height: 1.2em;}#sk-container-id-2 div.sk-label-container {text-align: center;}#sk-container-id-2 div.sk-container {/* jupyter's `normalize.less` sets `[hidden] { display: none; }` but bootstrap.min.css set `[hidden] { display: none !important; }` so we also need the `!important` here to be able to override the default hidden behavior on the sphinx rendered scikit-learn.org. See: https://github.com/scikit-learn/scikit-learn/issues/21755 */display: inline-block !important;position: relative;}#sk-container-id-2 div.sk-text-repr-fallback {display: none;}</style><div id=\"sk-container-id-2\" class=\"sk-top-container\"><div class=\"sk-text-repr-fallback\"><pre>FactorAnalysis(n_components=2)</pre><b>In a Jupyter environment, please rerun this cell to show the HTML representation or trust the notebook. <br />On GitHub, the HTML representation is unable to render, please try loading this page with nbviewer.org.</b></div><div class=\"sk-container\" hidden><div class=\"sk-item\"><div class=\"sk-estimator sk-toggleable\"><input class=\"sk-toggleable__control sk-hidden--visually\" id=\"sk-estimator-id-2\" type=\"checkbox\" checked><label for=\"sk-estimator-id-2\" class=\"sk-toggleable__label sk-toggleable__label-arrow\">FactorAnalysis</label><div class=\"sk-toggleable__content\"><pre>FactorAnalysis(n_components=2)</pre></div></div></div></div></div>"
      ],
      "text/plain": [
       "FactorAnalysis(n_components=2)"
      ]
     },
     "execution_count": 15,
     "metadata": {},
     "output_type": "execute_result"
    }
   ],
   "source": [
    "#perform factor analysis\n",
    "from sklearn.decomposition import FactorAnalysis\n",
    "fa= FactorAnalysis(n_components = 2) #set the number to 10\n",
    "fa.fit(iris_standardized)"
   ]
  },
  {
   "cell_type": "code",
   "execution_count": 16,
   "id": "67129fb2",
   "metadata": {},
   "outputs": [
    {
     "name": "stdout",
     "output_type": "stream",
     "text": [
      "[[ 0.88096009 -0.41691605  0.99918858  0.96228895]\n",
      " [-0.4472869  -0.55390036  0.01915283  0.05840206]]\n"
     ]
    }
   ],
   "source": [
    "#print the factor loadings\n",
    "print(fa.components_)"
   ]
  },
  {
   "cell_type": "code",
   "execution_count": 19,
   "id": "b9a5c2b6",
   "metadata": {},
   "outputs": [
    {
     "data": {
      "image/png": "[encoded data removed]",
      "text/plain": [
       "<Figure size 800x600 with 1 Axes>"
      ]
     },
     "metadata": {},
     "output_type": "display_data"
    }
   ],
   "source": [
    "#plot the factors loadings\n",
    "import matplotlib.pyplot as plt\n",
    "fig,ax=plt.subplots(figsize=(8,6))\n",
    "ax.scatter(fa.components_[0],fa.components_[1])\n",
    "for i,(x , y) in enumerate(zip(fa.components_[0],fa.components_[1])):\n",
    "    ax.text(x+0.01,y+0.01,iris.feature_names[i])\n",
    "    ax.set_xlabel('Factor 1')\n",
    "    ax.set_ylabel('Factor 2')\n",
    "    ax.axhline(y=0,color='k',alpha=0.5)\n",
    "    ax.axvline(x=0,color='k',alpha=0.5)\n",
    "    ax.set_title('Factor loadings plot')\n",
    "    plt.show()"
   ]
  },
  {
   "cell_type": "code",
   "execution_count": null,
   "id": "205462ea",
   "metadata": {},
   "outputs": [],
   "source": []
  }
 ],
 "metadata": {
  "kernelspec": {
   "display_name": "Python 3 (ipykernel)",
   "language": "python",
   "name": "python3"
  },
  "language_info": {
   "codemirror_mode": {
    "name": "ipython",
    "version": 3
   },
   "file_extension": ".py",
   "mimetype": "text/x-python",
   "name": "python",
   "nbconvert_exporter": "python",
   "pygments_lexer": "ipython3",
   "version": "3.11.5"
  }
 },
 "nbformat": 4,
 "nbformat_minor": 5
}
